{
 "cells": [
  {
   "cell_type": "markdown",
   "id": "93450656-c5ec-491e-b652-856245c0034a",
   "metadata": {},
   "source": [
    "Q1 : Create a vechile class with an init method having instance variable as name of vechile,max speed and average of vechile"
   ]
  },
  {
   "cell_type": "code",
   "execution_count": 1,
   "id": "a465ed2e-2e79-46af-a25b-6c335d7aeb2a",
   "metadata": {},
   "outputs": [],
   "source": [
    "class vechile :\n",
    "    def __init__(self, name_of_vechile,max_speed,average_of_vechile):\n",
    "        self.name_of_vechile = name_of_vechile\n",
    "        self.max_speed = max_speed\n",
    "        self.average_of_vechile = average_of_vechile\n",
    "    def get_result(self):\n",
    "        return self.name_of_vechile,self.max_speed,self.average_of_vechile\n",
    "        \n",
    "    "
   ]
  },
  {
   "cell_type": "code",
   "execution_count": 2,
   "id": "5933f66d-c081-4595-b734-64e610a85e00",
   "metadata": {},
   "outputs": [],
   "source": [
    "Toyota = vechile(\"Fortuner\",200,10)"
   ]
  },
  {
   "cell_type": "code",
   "execution_count": 5,
   "id": "854d3865-7bbd-4816-9abf-0c3f5bf6018e",
   "metadata": {},
   "outputs": [
    {
     "data": {
      "text/plain": [
       "'Fortuner'"
      ]
     },
     "execution_count": 5,
     "metadata": {},
     "output_type": "execute_result"
    }
   ],
   "source": [
    "Toyota.name_of_vechile"
   ]
  },
  {
   "cell_type": "code",
   "execution_count": 6,
   "id": "4812238e-0f52-49d6-a919-cea8d44c8639",
   "metadata": {},
   "outputs": [
    {
     "data": {
      "text/plain": [
       "('Fortuner', 200, 10)"
      ]
     },
     "execution_count": 6,
     "metadata": {},
     "output_type": "execute_result"
    }
   ],
   "source": [
    "Toyota.get_result()"
   ]
  },
  {
   "cell_type": "markdown",
   "id": "21d2a02c-9c2b-43fc-aec3-3fecb4e897d0",
   "metadata": {},
   "source": [
    "Q2 :  Create a child class car from the vehicle class created in Que 1, which will inherit the vehicle class.\n",
    "Create a method named seating_capacity which takes capacity as an argument and returns the name of\n",
    "the vehicle and its seating capacity"
   ]
  },
  {
   "cell_type": "code",
   "execution_count": 7,
   "id": "bb0c1e75-fa33-4bbe-8a39-0c61c28370e5",
   "metadata": {},
   "outputs": [],
   "source": [
    "class vechile :\n",
    "    def __init__(self, name_of_vechile,max_speed,average_of_vechile):\n",
    "        self.name_of_vechile = name_of_vechile\n",
    "        self.max_speed = max_speed\n",
    "        self.average_of_vechile = average_of_vechile\n",
    "    def get_result(self):\n",
    "        return self.name_of_vechile,self.max_speed,self.average_of_vechile"
   ]
  },
  {
   "cell_type": "code",
   "execution_count": 8,
   "id": "874a1244-1298-4959-ab6b-b8013765c34c",
   "metadata": {},
   "outputs": [],
   "source": [
    "class child(vechile):\n",
    "    def __init__(self,capacity):\n",
    "        self.capacity = capacity\n",
    "    def seating_capacity(self):\n",
    "        return self.capacity\n",
    "        \n",
    "    "
   ]
  },
  {
   "cell_type": "code",
   "execution_count": 9,
   "id": "20d23d18-9956-44f4-b13c-cdff964607e6",
   "metadata": {},
   "outputs": [],
   "source": [
    "c = child(6)"
   ]
  },
  {
   "cell_type": "code",
   "execution_count": 10,
   "id": "f2560f8a-f033-4761-b6c0-73739ee71b5f",
   "metadata": {},
   "outputs": [
    {
     "data": {
      "text/plain": [
       "6"
      ]
     },
     "execution_count": 10,
     "metadata": {},
     "output_type": "execute_result"
    }
   ],
   "source": [
    "c.seating_capacity()"
   ]
  },
  {
   "cell_type": "markdown",
   "id": "82d7dc73-7c40-41e1-acc9-1b403e3f90c9",
   "metadata": {},
   "source": [
    "Q3 : What is multiple inheritance ? Write a code for it"
   ]
  },
  {
   "cell_type": "code",
   "execution_count": 11,
   "id": "1c162b5b-7c28-4aee-a57d-c971da39a364",
   "metadata": {},
   "outputs": [],
   "source": [
    "## multiple inheritance is a feature in which a class can inherit method of one or more classes"
   ]
  },
  {
   "cell_type": "code",
   "execution_count": 12,
   "id": "b416a2ce-76a7-4b09-9279-56d457aa318d",
   "metadata": {},
   "outputs": [],
   "source": [
    "class class1:\n",
    "    def test1(self):\n",
    "        return\"this is calss 1\""
   ]
  },
  {
   "cell_type": "code",
   "execution_count": 25,
   "id": "f52f1506-a00d-4ba7-961b-0ba67667dac8",
   "metadata": {},
   "outputs": [],
   "source": [
    "class class2:\n",
    "    def test2(self):\n",
    "        return \"this is class 2\""
   ]
  },
  {
   "cell_type": "code",
   "execution_count": 28,
   "id": "299db7f8-4959-4d65-adc1-bbb9516cb7b9",
   "metadata": {},
   "outputs": [],
   "source": [
    "class class3(class1,class2):\n",
    "    pass"
   ]
  },
  {
   "cell_type": "code",
   "execution_count": 29,
   "id": "0fe309d8-f74c-4d60-9c5f-b4e579af9f56",
   "metadata": {},
   "outputs": [],
   "source": [
    "c = class3()"
   ]
  },
  {
   "cell_type": "code",
   "execution_count": 30,
   "id": "300dcbea-9fa4-4e59-a88f-0c8578ba0de5",
   "metadata": {},
   "outputs": [
    {
     "data": {
      "text/plain": [
       "'this is calss 1'"
      ]
     },
     "execution_count": 30,
     "metadata": {},
     "output_type": "execute_result"
    }
   ],
   "source": [
    "c.test1()"
   ]
  },
  {
   "cell_type": "markdown",
   "id": "6ea29c56-dd41-454f-89f2-79dc2aff49c3",
   "metadata": {},
   "source": [
    "Q4 :  What are getter and setter in python? Create a class and create a getter and a setter method in this\n",
    "class."
   ]
  },
  {
   "cell_type": "code",
   "execution_count": 31,
   "id": "52c8d4cf-1273-4b52-9aab-a0e3707b6b1e",
   "metadata": {},
   "outputs": [],
   "source": [
    "##In Python, getters and setters are methods used to access and modify the attributes of a class in a controlled manner. They are often used to encapsulate and protect the internal state of an object. Getters are used to retrieve the value of an attribute, and setters are used to modify the value of an attribute while providing an opportunity to validate or control the modification."
   ]
  },
  {
   "cell_type": "markdown",
   "id": "762cb5ab-e8e9-49c0-83cb-d350571dbdce",
   "metadata": {},
   "source": [
    "Q5.What is method overriding in python? Write a python code to demonstrate method overriding."
   ]
  },
  {
   "cell_type": "code",
   "execution_count": 32,
   "id": "6bf853b1-7a18-4470-aade-6fe4981dde86",
   "metadata": {},
   "outputs": [],
   "source": [
    "## method overriding provide a special implementation of method that is alredy provided by parent class."
   ]
  },
  {
   "cell_type": "code",
   "execution_count": 33,
   "id": "b3598aca-3b23-4c02-a866-cc9d7c91e5fc",
   "metadata": {},
   "outputs": [],
   "source": [
    "class employee:\n",
    "    def __init__(self,name,base_pay):\n",
    "        self.name = name\n",
    "        self.base_pay = base_pay"
   ]
  },
  {
   "cell_type": "code",
   "execution_count": null,
   "id": "1ec00a0e-1ee0-4305-b10f-5ac49e92f304",
   "metadata": {},
   "outputs": [],
   "source": [
    "class saleemploye(employee):\n",
    "    def __init__(self,name,base_pay,sales_in"
   ]
  }
 ],
 "metadata": {
  "kernelspec": {
   "display_name": "Python 3 (ipykernel)",
   "language": "python",
   "name": "python3"
  },
  "language_info": {
   "codemirror_mode": {
    "name": "ipython",
    "version": 3
   },
   "file_extension": ".py",
   "mimetype": "text/x-python",
   "name": "python",
   "nbconvert_exporter": "python",
   "pygments_lexer": "ipython3",
   "version": "3.10.8"
  }
 },
 "nbformat": 4,
 "nbformat_minor": 5
}
