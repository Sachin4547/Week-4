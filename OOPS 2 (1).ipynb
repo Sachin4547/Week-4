{
 "cells": [
  {
   "cell_type": "markdown",
   "id": "c1b01f2f-a756-41f2-80bb-c59d9a16f5b1",
   "metadata": {},
   "source": [
    "Q1. What is Abstraction in OOps? Explain with an example."
   ]
  },
  {
   "cell_type": "code",
   "execution_count": 1,
   "id": "c0e9a98e-44b7-4ebe-96f8-cf199fb4ae83",
   "metadata": {},
   "outputs": [],
   "source": [
    "## Abstraction in OOPS is used to make blueprint with the help of inheritance so that it can be used in different class and give the information for the particular it is asked for."
   ]
  },
  {
   "cell_type": "code",
   "execution_count": 5,
   "id": "9cdde435-d42e-456c-9334-3b3ad7787fdc",
   "metadata": {},
   "outputs": [],
   "source": [
    "import abc\n",
    "class sachinrao:\n",
    "    \n",
    "    @abc.abstractmethod\n",
    "    def students_details(self):\n",
    "        pass\n",
    "    \n",
    "    @abc.abstractmethod\n",
    "    def student_assignment(self):\n",
    "        pass\n",
    "    \n",
    "    @abc.abstractmethod\n",
    "    def student_marks(self):\n",
    "        pass\n",
    "    \n"
   ]
  },
  {
   "cell_type": "code",
   "execution_count": 6,
   "id": "9acaf2dc-3227-45bf-bf9a-107d76085b65",
   "metadata": {},
   "outputs": [],
   "source": [
    "class student_details(sachinrao):\n",
    "    \n",
    "    def student_details(self):\n",
    "        return\"this method is used for taking student details\"\n",
    "    \n",
    "    def student_assignment(self):\n",
    "        return \"this is a meth for assign details for a particular assign\""
   ]
  },
  {
   "cell_type": "code",
   "execution_count": 7,
   "id": "56579b55-c721-43be-b1e6-23472d6516b8",
   "metadata": {},
   "outputs": [],
   "source": [
    "class data_science_masters(sachinrao):\n",
    "    def student_details(self):\n",
    "        return\"this will return detail for student details\"\n",
    "    \n",
    "    def student_marks(self):\n",
    "        return\"sachin got 100/100 marks\""
   ]
  },
  {
   "cell_type": "code",
   "execution_count": 8,
   "id": "91594859-343b-4fb4-8b48-609646b215aa",
   "metadata": {},
   "outputs": [],
   "source": [
    "dsm = data_science_masters()\n"
   ]
  },
  {
   "cell_type": "code",
   "execution_count": 10,
   "id": "5e9809a2-3236-44c1-ab1b-7d7f3419b0a5",
   "metadata": {},
   "outputs": [
    {
     "data": {
      "text/plain": [
       "'sachin got 100/100 marks'"
      ]
     },
     "execution_count": 10,
     "metadata": {},
     "output_type": "execute_result"
    }
   ],
   "source": [
    "dsm.student_marks()"
   ]
  },
  {
   "cell_type": "markdown",
   "id": "7ffb5b1f-781f-47df-82ec-42a53cfe3935",
   "metadata": {},
   "source": [
    "Q2. Differentiate between Abstraction and Encapsulation. Explain with an example."
   ]
  },
  {
   "cell_type": "code",
   "execution_count": 11,
   "id": "f78bce66-5860-4d4c-bab2-94ef34d0ac40",
   "metadata": {},
   "outputs": [],
   "source": [
    "## Differnce between Abstraction and Encapsulation is that \"Abstraction is used for public used as a blueprint so that we can easily used it for a wide range with the help of inheritance Abstarction can be used for like in a school for making details for student whatever is the report for their marks unit test and semester test while Encapsulation is used for security purpose so that we can restrict to open our inputs .It prevents direct access to object's internal state."
   ]
  },
  {
   "cell_type": "code",
   "execution_count": 12,
   "id": "2405eb45-63f7-4a91-a1e0-f66f3b7a31c8",
   "metadata": {},
   "outputs": [],
   "source": [
    "##Abstraction example"
   ]
  },
  {
   "cell_type": "code",
   "execution_count": 13,
   "id": "40331dfe-2b7d-49f5-b9b7-c9408dfab2e0",
   "metadata": {},
   "outputs": [],
   "source": [
    "import abc\n",
    "class sachinrao:\n",
    "    \n",
    "    @abc.abstractmethod\n",
    "    def students_details(self):\n",
    "        pass\n",
    "    \n",
    "    @abc.abstractmethod\n",
    "    def student_assignment(self):\n",
    "        pass\n",
    "    \n",
    "    @abc.abstractmethod\n",
    "    def student_marks(self):\n",
    "        pass"
   ]
  },
  {
   "cell_type": "code",
   "execution_count": 14,
   "id": "3d0a0072-0f51-4195-930a-880d666e3e14",
   "metadata": {},
   "outputs": [],
   "source": [
    "## Encapsulation "
   ]
  },
  {
   "cell_type": "code",
   "execution_count": 16,
   "id": "c36bf188-838c-47a8-8509-42d79c8fff08",
   "metadata": {},
   "outputs": [],
   "source": [
    "class bank_account:\n",
    "    def __init__(self,balance):\n",
    "        self.__balance = balance\n",
    "        \n",
    "    def deposit(self , amount):\n",
    "        self.__balance = self.__balance + amount\n",
    "        \n",
    "    def withdraw(self ,amount):\n",
    "        if self.__balance >= amount:\n",
    "            self.__balance = self.__balance - amount\n",
    "            return True\n",
    "        else :\n",
    "            return False\n",
    "    def get_balance(self):\n",
    "        return self.__balance\n",
    "        \n",
    "    "
   ]
  },
  {
   "cell_type": "code",
   "execution_count": 22,
   "id": "2c279b23-d715-48b5-a8be-93b9a67d90c9",
   "metadata": {},
   "outputs": [],
   "source": [
    "sachin = bank_account(2000)"
   ]
  },
  {
   "cell_type": "code",
   "execution_count": 23,
   "id": "f261c0ca-eabf-4ace-a17c-f5317d09e175",
   "metadata": {},
   "outputs": [],
   "source": [
    "##Here we can't get direct access to balance"
   ]
  },
  {
   "cell_type": "markdown",
   "id": "33b1a71e-c539-451a-b99c-817068414f98",
   "metadata": {},
   "source": [
    "Q3. What is abc module in python? Why is it used?"
   ]
  },
  {
   "cell_type": "code",
   "execution_count": 24,
   "id": "9f012cad-ce4c-48e1-a01e-d967c29130f9",
   "metadata": {},
   "outputs": [],
   "source": [
    "##ABC module is used to import abc for abstaction so that it can be used as a blueprint and make easy for the user."
   ]
  },
  {
   "cell_type": "markdown",
   "id": "2c63e601-b311-4bf7-816f-725b00ec39ef",
   "metadata": {},
   "source": [
    "Q4. How can we achieve data abstraction?"
   ]
  },
  {
   "cell_type": "code",
   "execution_count": 25,
   "id": "0515e90e-eada-4700-87c8-a9b39c86a983",
   "metadata": {},
   "outputs": [],
   "source": [
    "##We can achieve data abstraction with the help of import abc and the abstraction method with the given example below"
   ]
  },
  {
   "cell_type": "code",
   "execution_count": 26,
   "id": "9416f2af-8e5c-4bb7-9488-610ad20024bc",
   "metadata": {},
   "outputs": [],
   "source": [
    "import abc\n",
    "class sachinrao:\n",
    "    \n",
    "    @abc.abstractmethod\n",
    "    def students_details(self):\n",
    "        pass\n",
    "    \n",
    "    @abc.abstractmethod\n",
    "    def student_assignment(self):\n",
    "        pass\n",
    "    \n",
    "    @abc.abstractmethod\n",
    "    def student_marks(self):\n",
    "        pass"
   ]
  },
  {
   "cell_type": "markdown",
   "id": "dd911366-21b4-4442-8e9d-056fb00b334d",
   "metadata": {},
   "source": [
    "Q5. Can we create an instance of an abstract class? Explain your answer."
   ]
  },
  {
   "cell_type": "code",
   "execution_count": 2,
   "id": "2b3c5169-0d7b-431c-9620-8a7d12a73716",
   "metadata": {},
   "outputs": [],
   "source": [
    "##No, you cannot create an instance of an abstract class in most object-oriented programming languages. Abstract classes are designed to be incomplete and serve as a blueprint for other classes to inherit from. They are meant to provide a common interface and define a set of methods that must be implemented by any concrete (non-abstract) subclass."
   ]
  },
  {
   "cell_type": "code",
   "execution_count": null,
   "id": "94026ec8-2649-4db0-9081-c47e85c3e618",
   "metadata": {},
   "outputs": [],
   "source": []
  }
 ],
 "metadata": {
  "kernelspec": {
   "display_name": "Python 3 (ipykernel)",
   "language": "python",
   "name": "python3"
  },
  "language_info": {
   "codemirror_mode": {
    "name": "ipython",
    "version": 3
   },
   "file_extension": ".py",
   "mimetype": "text/x-python",
   "name": "python",
   "nbconvert_exporter": "python",
   "pygments_lexer": "ipython3",
   "version": "3.10.8"
  }
 },
 "nbformat": 4,
 "nbformat_minor": 5
}
